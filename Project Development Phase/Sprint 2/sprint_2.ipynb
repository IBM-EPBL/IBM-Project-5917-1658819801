{
  "cells": [
    {
      "cell_type": "code",
      "execution_count": 8,
      "id": "07d68271",
      "metadata": {
        "id": "07d68271"
      },
      "outputs": [],
      "source": []
    },
    {
      "cell_type": "code",
      "execution_count": 9,
      "id": "2c1346f8",
      "metadata": {
        "colab": {
          "base_uri": "https://localhost:8080/"
        },
        "id": "2c1346f8",
        "outputId": "7879d4cc-3dfa-4350-8ca3-dbdc9483fbc6"
      },
      "outputs": [
        {
          "output_type": "stream",
          "name": "stdout",
          "text": [
            "Looking in indexes: https://pypi.org/simple, https://us-python.pkg.dev/colab-wheels/public/simple/\n",
            "Requirement already satisfied: pandas in /usr/local/lib/python3.7/dist-packages (1.3.5)\n",
            "Requirement already satisfied: numpy>=1.17.3 in /usr/local/lib/python3.7/dist-packages (from pandas) (1.21.6)\n",
            "Requirement already satisfied: pytz>=2017.3 in /usr/local/lib/python3.7/dist-packages (from pandas) (2022.6)\n",
            "Requirement already satisfied: python-dateutil>=2.7.3 in /usr/local/lib/python3.7/dist-packages (from pandas) (2.8.2)\n",
            "Requirement already satisfied: six>=1.5 in /usr/local/lib/python3.7/dist-packages (from python-dateutil>=2.7.3->pandas) (1.15.0)\n"
          ]
        }
      ],
      "source": [
        "!pip install pandas\n",
        "import pandas as pd"
      ]
    },
    {
      "cell_type": "code",
      "execution_count": 10,
      "id": "3b5cf168",
      "metadata": {
        "id": "3b5cf168"
      },
      "outputs": [],
      "source": [
        "import numpy as np"
      ]
    },
    {
      "cell_type": "code",
      "execution_count": 11,
      "id": "98ad6245",
      "metadata": {
        "id": "98ad6245"
      },
      "outputs": [],
      "source": [
        "import matplotlib.pyplot as plt"
      ]
    },
    {
      "cell_type": "code",
      "execution_count": 12,
      "id": "d131297f",
      "metadata": {
        "colab": {
          "base_uri": "https://localhost:8080/"
        },
        "id": "d131297f",
        "outputId": "9523fb33-9094-4765-ca8a-f4b2ce520d1b"
      },
      "outputs": [
        {
          "output_type": "stream",
          "name": "stdout",
          "text": [
            "Looking in indexes: https://pypi.org/simple, https://us-python.pkg.dev/colab-wheels/public/simple/\n",
            "Requirement already satisfied: tensorflow in /usr/local/lib/python3.7/dist-packages (2.9.2)\n",
            "Requirement already satisfied: tensorboard<2.10,>=2.9 in /usr/local/lib/python3.7/dist-packages (from tensorflow) (2.9.1)\n",
            "Requirement already satisfied: six>=1.12.0 in /usr/local/lib/python3.7/dist-packages (from tensorflow) (1.15.0)\n",
            "Requirement already satisfied: tensorflow-estimator<2.10.0,>=2.9.0rc0 in /usr/local/lib/python3.7/dist-packages (from tensorflow) (2.9.0)\n",
            "Requirement already satisfied: gast<=0.4.0,>=0.2.1 in /usr/local/lib/python3.7/dist-packages (from tensorflow) (0.4.0)\n",
            "Requirement already satisfied: numpy>=1.20 in /usr/local/lib/python3.7/dist-packages (from tensorflow) (1.21.6)\n",
            "Requirement already satisfied: typing-extensions>=3.6.6 in /usr/local/lib/python3.7/dist-packages (from tensorflow) (4.1.1)\n",
            "Requirement already satisfied: termcolor>=1.1.0 in /usr/local/lib/python3.7/dist-packages (from tensorflow) (2.1.0)\n",
            "Requirement already satisfied: wrapt>=1.11.0 in /usr/local/lib/python3.7/dist-packages (from tensorflow) (1.14.1)\n",
            "Requirement already satisfied: keras<2.10.0,>=2.9.0rc0 in /usr/local/lib/python3.7/dist-packages (from tensorflow) (2.9.0)\n",
            "Requirement already satisfied: absl-py>=1.0.0 in /usr/local/lib/python3.7/dist-packages (from tensorflow) (1.3.0)\n",
            "Requirement already satisfied: grpcio<2.0,>=1.24.3 in /usr/local/lib/python3.7/dist-packages (from tensorflow) (1.50.0)\n",
            "Requirement already satisfied: astunparse>=1.6.0 in /usr/local/lib/python3.7/dist-packages (from tensorflow) (1.6.3)\n",
            "Requirement already satisfied: google-pasta>=0.1.1 in /usr/local/lib/python3.7/dist-packages (from tensorflow) (0.2.0)\n",
            "Requirement already satisfied: libclang>=13.0.0 in /usr/local/lib/python3.7/dist-packages (from tensorflow) (14.0.6)\n",
            "Requirement already satisfied: opt-einsum>=2.3.2 in /usr/local/lib/python3.7/dist-packages (from tensorflow) (3.3.0)\n",
            "Requirement already satisfied: packaging in /usr/local/lib/python3.7/dist-packages (from tensorflow) (21.3)\n",
            "Requirement already satisfied: protobuf<3.20,>=3.9.2 in /usr/local/lib/python3.7/dist-packages (from tensorflow) (3.19.6)\n",
            "Requirement already satisfied: keras-preprocessing>=1.1.1 in /usr/local/lib/python3.7/dist-packages (from tensorflow) (1.1.2)\n",
            "Requirement already satisfied: setuptools in /usr/local/lib/python3.7/dist-packages (from tensorflow) (57.4.0)\n",
            "Requirement already satisfied: h5py>=2.9.0 in /usr/local/lib/python3.7/dist-packages (from tensorflow) (3.1.0)\n",
            "Requirement already satisfied: tensorflow-io-gcs-filesystem>=0.23.1 in /usr/local/lib/python3.7/dist-packages (from tensorflow) (0.27.0)\n",
            "Requirement already satisfied: flatbuffers<2,>=1.12 in /usr/local/lib/python3.7/dist-packages (from tensorflow) (1.12)\n",
            "Requirement already satisfied: wheel<1.0,>=0.23.0 in /usr/local/lib/python3.7/dist-packages (from astunparse>=1.6.0->tensorflow) (0.38.3)\n",
            "Requirement already satisfied: cached-property in /usr/local/lib/python3.7/dist-packages (from h5py>=2.9.0->tensorflow) (1.5.2)\n",
            "Requirement already satisfied: google-auth-oauthlib<0.5,>=0.4.1 in /usr/local/lib/python3.7/dist-packages (from tensorboard<2.10,>=2.9->tensorflow) (0.4.6)\n",
            "Requirement already satisfied: markdown>=2.6.8 in /usr/local/lib/python3.7/dist-packages (from tensorboard<2.10,>=2.9->tensorflow) (3.4.1)\n",
            "Requirement already satisfied: werkzeug>=1.0.1 in /usr/local/lib/python3.7/dist-packages (from tensorboard<2.10,>=2.9->tensorflow) (1.0.1)\n",
            "Requirement already satisfied: requests<3,>=2.21.0 in /usr/local/lib/python3.7/dist-packages (from tensorboard<2.10,>=2.9->tensorflow) (2.23.0)\n",
            "Requirement already satisfied: tensorboard-plugin-wit>=1.6.0 in /usr/local/lib/python3.7/dist-packages (from tensorboard<2.10,>=2.9->tensorflow) (1.8.1)\n",
            "Requirement already satisfied: tensorboard-data-server<0.7.0,>=0.6.0 in /usr/local/lib/python3.7/dist-packages (from tensorboard<2.10,>=2.9->tensorflow) (0.6.1)\n",
            "Requirement already satisfied: google-auth<3,>=1.6.3 in /usr/local/lib/python3.7/dist-packages (from tensorboard<2.10,>=2.9->tensorflow) (2.14.1)\n",
            "Requirement already satisfied: pyasn1-modules>=0.2.1 in /usr/local/lib/python3.7/dist-packages (from google-auth<3,>=1.6.3->tensorboard<2.10,>=2.9->tensorflow) (0.2.8)\n",
            "Requirement already satisfied: cachetools<6.0,>=2.0.0 in /usr/local/lib/python3.7/dist-packages (from google-auth<3,>=1.6.3->tensorboard<2.10,>=2.9->tensorflow) (5.2.0)\n",
            "Requirement already satisfied: rsa<5,>=3.1.4 in /usr/local/lib/python3.7/dist-packages (from google-auth<3,>=1.6.3->tensorboard<2.10,>=2.9->tensorflow) (4.9)\n",
            "Requirement already satisfied: requests-oauthlib>=0.7.0 in /usr/local/lib/python3.7/dist-packages (from google-auth-oauthlib<0.5,>=0.4.1->tensorboard<2.10,>=2.9->tensorflow) (1.3.1)\n",
            "Requirement already satisfied: importlib-metadata>=4.4 in /usr/local/lib/python3.7/dist-packages (from markdown>=2.6.8->tensorboard<2.10,>=2.9->tensorflow) (4.13.0)\n",
            "Requirement already satisfied: zipp>=0.5 in /usr/local/lib/python3.7/dist-packages (from importlib-metadata>=4.4->markdown>=2.6.8->tensorboard<2.10,>=2.9->tensorflow) (3.10.0)\n",
            "Requirement already satisfied: pyasn1<0.5.0,>=0.4.6 in /usr/local/lib/python3.7/dist-packages (from pyasn1-modules>=0.2.1->google-auth<3,>=1.6.3->tensorboard<2.10,>=2.9->tensorflow) (0.4.8)\n",
            "Requirement already satisfied: urllib3!=1.25.0,!=1.25.1,<1.26,>=1.21.1 in /usr/local/lib/python3.7/dist-packages (from requests<3,>=2.21.0->tensorboard<2.10,>=2.9->tensorflow) (1.24.3)\n",
            "Requirement already satisfied: idna<3,>=2.5 in /usr/local/lib/python3.7/dist-packages (from requests<3,>=2.21.0->tensorboard<2.10,>=2.9->tensorflow) (2.10)\n",
            "Requirement already satisfied: certifi>=2017.4.17 in /usr/local/lib/python3.7/dist-packages (from requests<3,>=2.21.0->tensorboard<2.10,>=2.9->tensorflow) (2022.9.24)\n",
            "Requirement already satisfied: chardet<4,>=3.0.2 in /usr/local/lib/python3.7/dist-packages (from requests<3,>=2.21.0->tensorboard<2.10,>=2.9->tensorflow) (3.0.4)\n",
            "Requirement already satisfied: oauthlib>=3.0.0 in /usr/local/lib/python3.7/dist-packages (from requests-oauthlib>=0.7.0->google-auth-oauthlib<0.5,>=0.4.1->tensorboard<2.10,>=2.9->tensorflow) (3.2.2)\n",
            "Requirement already satisfied: pyparsing!=3.0.5,>=2.0.2 in /usr/local/lib/python3.7/dist-packages (from packaging->tensorflow) (3.0.9)\n"
          ]
        }
      ],
      "source": [
        "!pip install tensorflow \n",
        "import tensorflow as tf"
      ]
    },
    {
      "cell_type": "code",
      "execution_count": 13,
      "id": "806cf55e",
      "metadata": {
        "colab": {
          "base_uri": "https://localhost:8080/"
        },
        "id": "806cf55e",
        "outputId": "7a6e1bf4-d93d-4e5f-e69d-7696aa7e43a0"
      },
      "outputs": [
        {
          "output_type": "stream",
          "name": "stdout",
          "text": [
            "Looking in indexes: https://pypi.org/simple, https://us-python.pkg.dev/colab-wheels/public/simple/\n",
            "Requirement already satisfied: flask in /usr/local/lib/python3.7/dist-packages (1.1.4)\n",
            "Requirement already satisfied: Jinja2<3.0,>=2.10.1 in /usr/local/lib/python3.7/dist-packages (from flask) (2.11.3)\n",
            "Requirement already satisfied: itsdangerous<2.0,>=0.24 in /usr/local/lib/python3.7/dist-packages (from flask) (1.1.0)\n",
            "Requirement already satisfied: click<8.0,>=5.1 in /usr/local/lib/python3.7/dist-packages (from flask) (7.1.2)\n",
            "Requirement already satisfied: Werkzeug<2.0,>=0.15 in /usr/local/lib/python3.7/dist-packages (from flask) (1.0.1)\n",
            "Requirement already satisfied: MarkupSafe>=0.23 in /usr/local/lib/python3.7/dist-packages (from Jinja2<3.0,>=2.10.1->flask) (2.0.1)\n"
          ]
        }
      ],
      "source": [
        "!pip install flask"
      ]
    },
    {
      "cell_type": "code",
      "execution_count": 14,
      "id": "4596bedc",
      "metadata": {
        "colab": {
          "base_uri": "https://localhost:8080/"
        },
        "id": "4596bedc",
        "outputId": "37d71e88-6e3a-4968-c033-5ea7e4feec26"
      },
      "outputs": [
        {
          "output_type": "stream",
          "name": "stdout",
          "text": [
            "Looking in indexes: https://pypi.org/simple, https://us-python.pkg.dev/colab-wheels/public/simple/\n",
            "Requirement already satisfied: keras in /usr/local/lib/python3.7/dist-packages (2.9.0)\n"
          ]
        }
      ],
      "source": [
        "!pip install keras\n",
        "import keras as k"
      ]
    },
    {
      "cell_type": "code",
      "execution_count": 15,
      "id": "b5c37bcd",
      "metadata": {
        "id": "b5c37bcd"
      },
      "outputs": [],
      "source": [
        "dataset=pd.read_excel(\"Crude Oil Prices Daily.xlsx\")"
      ]
    },
    {
      "cell_type": "code",
      "execution_count": 16,
      "id": "61db49da",
      "metadata": {
        "colab": {
          "base_uri": "https://localhost:8080/",
          "height": 206
        },
        "id": "61db49da",
        "outputId": "6e7dfb6b-6656-466a-ac7a-ea813c546f76"
      },
      "outputs": [
        {
          "output_type": "execute_result",
          "data": {
            "text/plain": [
              "        Date  Closing Value\n",
              "0 1986-01-02          25.56\n",
              "1 1986-01-03          26.00\n",
              "2 1986-01-06          26.53\n",
              "3 1986-01-07          25.85\n",
              "4 1986-01-08          25.87"
            ],
            "text/html": [
              "\n",
              "  <div id=\"df-4f85b95f-c05f-481f-afdf-161c4c5c061e\">\n",
              "    <div class=\"colab-df-container\">\n",
              "      <div>\n",
              "<style scoped>\n",
              "    .dataframe tbody tr th:only-of-type {\n",
              "        vertical-align: middle;\n",
              "    }\n",
              "\n",
              "    .dataframe tbody tr th {\n",
              "        vertical-align: top;\n",
              "    }\n",
              "\n",
              "    .dataframe thead th {\n",
              "        text-align: right;\n",
              "    }\n",
              "</style>\n",
              "<table border=\"1\" class=\"dataframe\">\n",
              "  <thead>\n",
              "    <tr style=\"text-align: right;\">\n",
              "      <th></th>\n",
              "      <th>Date</th>\n",
              "      <th>Closing Value</th>\n",
              "    </tr>\n",
              "  </thead>\n",
              "  <tbody>\n",
              "    <tr>\n",
              "      <th>0</th>\n",
              "      <td>1986-01-02</td>\n",
              "      <td>25.56</td>\n",
              "    </tr>\n",
              "    <tr>\n",
              "      <th>1</th>\n",
              "      <td>1986-01-03</td>\n",
              "      <td>26.00</td>\n",
              "    </tr>\n",
              "    <tr>\n",
              "      <th>2</th>\n",
              "      <td>1986-01-06</td>\n",
              "      <td>26.53</td>\n",
              "    </tr>\n",
              "    <tr>\n",
              "      <th>3</th>\n",
              "      <td>1986-01-07</td>\n",
              "      <td>25.85</td>\n",
              "    </tr>\n",
              "    <tr>\n",
              "      <th>4</th>\n",
              "      <td>1986-01-08</td>\n",
              "      <td>25.87</td>\n",
              "    </tr>\n",
              "  </tbody>\n",
              "</table>\n",
              "</div>\n",
              "      <button class=\"colab-df-convert\" onclick=\"convertToInteractive('df-4f85b95f-c05f-481f-afdf-161c4c5c061e')\"\n",
              "              title=\"Convert this dataframe to an interactive table.\"\n",
              "              style=\"display:none;\">\n",
              "        \n",
              "  <svg xmlns=\"http://www.w3.org/2000/svg\" height=\"24px\"viewBox=\"0 0 24 24\"\n",
              "       width=\"24px\">\n",
              "    <path d=\"M0 0h24v24H0V0z\" fill=\"none\"/>\n",
              "    <path d=\"M18.56 5.44l.94 2.06.94-2.06 2.06-.94-2.06-.94-.94-2.06-.94 2.06-2.06.94zm-11 1L8.5 8.5l.94-2.06 2.06-.94-2.06-.94L8.5 2.5l-.94 2.06-2.06.94zm10 10l.94 2.06.94-2.06 2.06-.94-2.06-.94-.94-2.06-.94 2.06-2.06.94z\"/><path d=\"M17.41 7.96l-1.37-1.37c-.4-.4-.92-.59-1.43-.59-.52 0-1.04.2-1.43.59L10.3 9.45l-7.72 7.72c-.78.78-.78 2.05 0 2.83L4 21.41c.39.39.9.59 1.41.59.51 0 1.02-.2 1.41-.59l7.78-7.78 2.81-2.81c.8-.78.8-2.07 0-2.86zM5.41 20L4 18.59l7.72-7.72 1.47 1.35L5.41 20z\"/>\n",
              "  </svg>\n",
              "      </button>\n",
              "      \n",
              "  <style>\n",
              "    .colab-df-container {\n",
              "      display:flex;\n",
              "      flex-wrap:wrap;\n",
              "      gap: 12px;\n",
              "    }\n",
              "\n",
              "    .colab-df-convert {\n",
              "      background-color: #E8F0FE;\n",
              "      border: none;\n",
              "      border-radius: 50%;\n",
              "      cursor: pointer;\n",
              "      display: none;\n",
              "      fill: #1967D2;\n",
              "      height: 32px;\n",
              "      padding: 0 0 0 0;\n",
              "      width: 32px;\n",
              "    }\n",
              "\n",
              "    .colab-df-convert:hover {\n",
              "      background-color: #E2EBFA;\n",
              "      box-shadow: 0px 1px 2px rgba(60, 64, 67, 0.3), 0px 1px 3px 1px rgba(60, 64, 67, 0.15);\n",
              "      fill: #174EA6;\n",
              "    }\n",
              "\n",
              "    [theme=dark] .colab-df-convert {\n",
              "      background-color: #3B4455;\n",
              "      fill: #D2E3FC;\n",
              "    }\n",
              "\n",
              "    [theme=dark] .colab-df-convert:hover {\n",
              "      background-color: #434B5C;\n",
              "      box-shadow: 0px 1px 3px 1px rgba(0, 0, 0, 0.15);\n",
              "      filter: drop-shadow(0px 1px 2px rgba(0, 0, 0, 0.3));\n",
              "      fill: #FFFFFF;\n",
              "    }\n",
              "  </style>\n",
              "\n",
              "      <script>\n",
              "        const buttonEl =\n",
              "          document.querySelector('#df-4f85b95f-c05f-481f-afdf-161c4c5c061e button.colab-df-convert');\n",
              "        buttonEl.style.display =\n",
              "          google.colab.kernel.accessAllowed ? 'block' : 'none';\n",
              "\n",
              "        async function convertToInteractive(key) {\n",
              "          const element = document.querySelector('#df-4f85b95f-c05f-481f-afdf-161c4c5c061e');\n",
              "          const dataTable =\n",
              "            await google.colab.kernel.invokeFunction('convertToInteractive',\n",
              "                                                     [key], {});\n",
              "          if (!dataTable) return;\n",
              "\n",
              "          const docLinkHtml = 'Like what you see? Visit the ' +\n",
              "            '<a target=\"_blank\" href=https://colab.research.google.com/notebooks/data_table.ipynb>data table notebook</a>'\n",
              "            + ' to learn more about interactive tables.';\n",
              "          element.innerHTML = '';\n",
              "          dataTable['output_type'] = 'display_data';\n",
              "          await google.colab.output.renderOutput(dataTable, element);\n",
              "          const docLink = document.createElement('div');\n",
              "          docLink.innerHTML = docLinkHtml;\n",
              "          element.appendChild(docLink);\n",
              "        }\n",
              "      </script>\n",
              "    </div>\n",
              "  </div>\n",
              "  "
            ]
          },
          "metadata": {},
          "execution_count": 16
        }
      ],
      "source": [
        "dataset.head()"
      ]
    },
    {
      "cell_type": "code",
      "execution_count": 17,
      "id": "7a728a4a",
      "metadata": {
        "colab": {
          "base_uri": "https://localhost:8080/"
        },
        "id": "7a728a4a",
        "outputId": "4cb75008-7f70-405a-f7e3-5fa101ab0e85"
      },
      "outputs": [
        {
          "output_type": "execute_result",
          "data": {
            "text/plain": [
              "Date             False\n",
              "Closing Value     True\n",
              "dtype: bool"
            ]
          },
          "metadata": {},
          "execution_count": 17
        }
      ],
      "source": [
        "dataset.isnull().any()"
      ]
    },
    {
      "cell_type": "code",
      "execution_count": 18,
      "id": "ec96573f",
      "metadata": {
        "colab": {
          "base_uri": "https://localhost:8080/"
        },
        "id": "ec96573f",
        "outputId": "92d15f5a-cf40-47eb-e214-c2dfb242700d"
      },
      "outputs": [
        {
          "output_type": "execute_result",
          "data": {
            "text/plain": [
              "Date             0\n",
              "Closing Value    7\n",
              "dtype: int64"
            ]
          },
          "metadata": {},
          "execution_count": 18
        }
      ],
      "source": [
        "dataset.isnull().sum()"
      ]
    },
    {
      "cell_type": "code",
      "execution_count": 19,
      "id": "eab806a8",
      "metadata": {
        "id": "eab806a8"
      },
      "outputs": [],
      "source": [
        "dataset.dropna(axis=0,inplace=True)"
      ]
    },
    {
      "cell_type": "code",
      "execution_count": 20,
      "id": "ee21763c",
      "metadata": {
        "colab": {
          "base_uri": "https://localhost:8080/"
        },
        "id": "ee21763c",
        "outputId": "555d1ebc-9444-4889-c0a5-9371d9ca0258"
      },
      "outputs": [
        {
          "output_type": "execute_result",
          "data": {
            "text/plain": [
              "Date             0\n",
              "Closing Value    0\n",
              "dtype: int64"
            ]
          },
          "metadata": {},
          "execution_count": 20
        }
      ],
      "source": [
        "dataset.isnull().sum()"
      ]
    },
    {
      "cell_type": "code",
      "execution_count": 21,
      "id": "cf44ccad",
      "metadata": {
        "colab": {
          "base_uri": "https://localhost:8080/"
        },
        "id": "cf44ccad",
        "outputId": "1a36a910-ff33-4942-a020-5eed1814a638"
      },
      "outputs": [
        {
          "output_type": "execute_result",
          "data": {
            "text/plain": [
              "0       25.56\n",
              "1       26.00\n",
              "2       26.53\n",
              "3       25.85\n",
              "4       25.87\n",
              "        ...  \n",
              "8211    73.89\n",
              "8212    74.19\n",
              "8213    73.05\n",
              "8214    73.78\n",
              "8215    73.93\n",
              "Name: Closing Value, Length: 8216, dtype: float64"
            ]
          },
          "metadata": {},
          "execution_count": 21
        }
      ],
      "source": [
        "dataoil=dataset.reset_index()['Closing Value']\n",
        "dataoil"
      ]
    },
    {
      "cell_type": "code",
      "execution_count": 22,
      "id": "1fbde8c6",
      "metadata": {
        "colab": {
          "base_uri": "https://localhost:8080/"
        },
        "id": "1fbde8c6",
        "outputId": "eb503be7-160f-4dab-babb-08680952b3eb"
      },
      "outputs": [
        {
          "output_type": "execute_result",
          "data": {
            "text/plain": [
              "array([[0.11335703],\n",
              "       [0.11661484],\n",
              "       [0.12053902],\n",
              "       ...,\n",
              "       [0.46497853],\n",
              "       [0.47038353],\n",
              "       [0.47149415]])"
            ]
          },
          "metadata": {},
          "execution_count": 22
        }
      ],
      "source": [
        "from sklearn.preprocessing import MinMaxScaler\n",
        "scaler=MinMaxScaler(feature_range=(0,1))\n",
        "dataoil=scaler.fit_transform(np.array(dataoil).reshape(-1,1))\n",
        "dataoil"
      ]
    },
    {
      "cell_type": "code",
      "execution_count": 23,
      "id": "984bef5a",
      "metadata": {
        "colab": {
          "base_uri": "https://localhost:8080/",
          "height": 282
        },
        "id": "984bef5a",
        "outputId": "7095d310-4fca-4f02-9421-107cb21e24a8"
      },
      "outputs": [
        {
          "output_type": "execute_result",
          "data": {
            "text/plain": [
              "[<matplotlib.lines.Line2D at 0x7f1447b9f510>]"
            ]
          },
          "metadata": {},
          "execution_count": 23
        },
        {
          "output_type": "display_data",
          "data": {
            "text/plain": [
              "<Figure size 432x288 with 1 Axes>"
            ],
            "image/png": "[encoded data removed]"
          },
          "metadata": {
            "needs_background": "light"
          }
        }
      ],
      "source": [
        "plt.plot(dataoil)"
      ]
    },
    {
      "cell_type": "code",
      "execution_count": 24,
      "id": "bf540a4e",
      "metadata": {
        "id": "bf540a4e"
      },
      "outputs": [],
      "source": [
        "training_size=int(len(dataoil)*0.65)\n",
        "test_size=len(dataoil)-training_size\n",
        "train_data,test_data=dataoil[0:training_size,:],dataoil[training_size:len(dataoil),:1]"
      ]
    },
    {
      "cell_type": "code",
      "execution_count": 25,
      "id": "2e08b8a2",
      "metadata": {
        "colab": {
          "base_uri": "https://localhost:8080/"
        },
        "id": "2e08b8a2",
        "outputId": "c2ce516b-bef0-428a-fbeb-d8b694ab380a"
      },
      "outputs": [
        {
          "output_type": "execute_result",
          "data": {
            "text/plain": [
              "(5340, 2876)"
            ]
          },
          "metadata": {},
          "execution_count": 25
        }
      ],
      "source": [
        "training_size,test_size"
      ]
    },
    {
      "cell_type": "code",
      "execution_count": 26,
      "id": "36fec26e",
      "metadata": {
        "colab": {
          "base_uri": "https://localhost:8080/"
        },
        "id": "36fec26e",
        "outputId": "a8af6c9f-ddf7-4df1-dbe5-9d0b754b7908"
      },
      "outputs": [
        {
          "output_type": "execute_result",
          "data": {
            "text/plain": [
              "(5340, 1)"
            ]
          },
          "metadata": {},
          "execution_count": 26
        }
      ],
      "source": [
        "train_data.shape"
      ]
    },
    {
      "cell_type": "code",
      "execution_count": 27,
      "id": "7c1a1d85",
      "metadata": {
        "id": "7c1a1d85"
      },
      "outputs": [],
      "source": [
        "def create_dataset(dataset,time_step=1):\n",
        "    dataX,dataY=[],[]\n",
        "    for i in range(len(dataset)-time_step-1):\n",
        "        a=dataset[i:(i+time_step),0]\n",
        "        dataX.append(a)\n",
        "        dataY.append(dataset[i+time_step,0])\n",
        "        return np.array(dataX),np.array(dataY)"
      ]
    },
    {
      "cell_type": "code",
      "execution_count": 28,
      "id": "de7e0003",
      "metadata": {
        "id": "de7e0003"
      },
      "outputs": [],
      "source": [
        "time_step=10\n",
        "x_train,y_train=create_dataset(train_data,time_step)\n",
        "x_test,y_test=create_dataset(test_data,time_step)"
      ]
    },
    {
      "cell_type": "code",
      "execution_count": 29,
      "id": "5548dbb1",
      "metadata": {
        "colab": {
          "base_uri": "https://localhost:8080/"
        },
        "id": "5548dbb1",
        "outputId": "ad654aa3-5b99-4812-a18a-6b9b2608392b"
      },
      "outputs": [
        {
          "output_type": "stream",
          "name": "stdout",
          "text": [
            "(1, 10)\n",
            "(1,)\n"
          ]
        },
        {
          "output_type": "execute_result",
          "data": {
            "text/plain": [
              "(None, None)"
            ]
          },
          "metadata": {},
          "execution_count": 29
        }
      ],
      "source": [
        "print(x_train.shape),print(y_train.shape)"
      ]
    },
    {
      "cell_type": "code",
      "execution_count": 30,
      "id": "e098773b",
      "metadata": {
        "colab": {
          "base_uri": "https://localhost:8080/"
        },
        "id": "e098773b",
        "outputId": "bc4fd558-6765-4c45-8ae5-4d313fc0b609"
      },
      "outputs": [
        {
          "output_type": "stream",
          "name": "stdout",
          "text": [
            "(1, 10)\n",
            "(1,)\n"
          ]
        },
        {
          "output_type": "execute_result",
          "data": {
            "text/plain": [
              "(None, None)"
            ]
          },
          "metadata": {},
          "execution_count": 30
        }
      ],
      "source": [
        "print(x_test.shape),print(y_test.shape)"
      ]
    },
    {
      "cell_type": "code",
      "execution_count": 31,
      "id": "37e4587e",
      "metadata": {
        "colab": {
          "base_uri": "https://localhost:8080/"
        },
        "id": "37e4587e",
        "outputId": "b23fd441-e8fa-4928-f283-f35cd82fc915"
      },
      "outputs": [
        {
          "output_type": "execute_result",
          "data": {
            "text/plain": [
              "array([[0.11335703, 0.11661484, 0.12053902, 0.11550422, 0.1156523 ,\n",
              "        0.11683696, 0.1140234 , 0.10980305, 0.1089886 , 0.11054346]])"
            ]
          },
          "metadata": {},
          "execution_count": 31
        }
      ],
      "source": [
        "x_train"
      ]
    },
    {
      "cell_type": "code",
      "execution_count": 32,
      "id": "16c9bdef",
      "metadata": {
        "id": "16c9bdef"
      },
      "outputs": [],
      "source": [
        "x_train=x_train.reshape(x_train.shape[0],x_train.shape[1],1)\n",
        "x_test=x_test.reshape(x_test.shape[0],x_test.shape[1],1)"
      ]
    },
    {
      "cell_type": "markdown",
      "id": "6faea8b8",
      "metadata": {
        "id": "6faea8b8"
      },
      "source": [
        "# MODEL BUILDING"
      ]
    },
    {
      "cell_type": "markdown",
      "id": "b41f56d9",
      "metadata": {
        "id": "b41f56d9"
      },
      "source": [
        "## IMPORTING MODEL BUILDING LIBRARIES"
      ]
    },
    {
      "cell_type": "code",
      "execution_count": 56,
      "id": "5e40609b",
      "metadata": {
        "id": "5e40609b"
      },
      "outputs": [],
      "source": [
        "from tensorflow.keras.models import Sequential\n",
        "from tensorflow.keras import layers\n",
        "from tensorflow.keras.layers import Dense\n",
        "from tensorflow.keras.layers import LSTM\n",
        "from sklearn.preprocessing import StandardScaler\n",
        "from sklearn.model_selection import train_test_split\n",
        "from keras.layers import Dropout\n",
        "from sklearn.metrics import mean_squared_error\n",
        "from keras.callbacks import ReduceLROnPlateau, EarlyStopping, ModelCheckpoint\n",
        "from sklearn.metrics import mean_absolute_error"
      ]
    },
    {
      "cell_type": "markdown",
      "id": "a1df5be2",
      "metadata": {
        "id": "a1df5be2"
      },
      "source": [
        "## INITIALIZING THE MODEL"
      ]
    },
    {
      "cell_type": "code",
      "execution_count": 34,
      "id": "68ae1e96",
      "metadata": {
        "id": "68ae1e96"
      },
      "outputs": [],
      "source": [
        "model=Sequential()"
      ]
    },
    {
      "cell_type": "markdown",
      "id": "a265136c",
      "metadata": {
        "id": "a265136c"
      },
      "source": [
        "## ADDING LSTM LAYERS "
      ]
    },
    {
      "cell_type": "code",
      "execution_count": 35,
      "id": "51e3a798",
      "metadata": {
        "id": "51e3a798"
      },
      "outputs": [],
      "source": [
        "model.add(LSTM(50,return_sequences=True,input_shape=(10,1)))\n",
        "model.add(LSTM(50,return_sequences=True))\n",
        "model.add(LSTM(50))\n"
      ]
    },
    {
      "cell_type": "markdown",
      "id": "cd993117",
      "metadata": {
        "id": "cd993117"
      },
      "source": [
        "## adding output layers"
      ]
    },
    {
      "cell_type": "code",
      "execution_count": 36,
      "id": "a6e27fe9",
      "metadata": {
        "id": "a6e27fe9"
      },
      "outputs": [],
      "source": [
        "model.add(Dense(1))"
      ]
    },
    {
      "cell_type": "code",
      "execution_count": 37,
      "id": "7d977bd1",
      "metadata": {
        "colab": {
          "base_uri": "https://localhost:8080/"
        },
        "id": "7d977bd1",
        "outputId": "7c12c344-4994-4dc9-9162-6eb66faac360"
      },
      "outputs": [
        {
          "output_type": "stream",
          "name": "stdout",
          "text": [
            "Model: \"sequential\"\n",
            "_________________________________________________________________\n",
            " Layer (type)                Output Shape              Param #   \n",
            "=================================================================\n",
            " lstm (LSTM)                 (None, 10, 50)            10400     \n",
            "                                                                 \n",
            " lstm_1 (LSTM)               (None, 10, 50)            20200     \n",
            "                                                                 \n",
            " lstm_2 (LSTM)               (None, 50)                20200     \n",
            "                                                                 \n",
            " dense (Dense)               (None, 1)                 51        \n",
            "                                                                 \n",
            "=================================================================\n",
            "Total params: 50,851\n",
            "Trainable params: 50,851\n",
            "Non-trainable params: 0\n",
            "_________________________________________________________________\n"
          ]
        }
      ],
      "source": [
        "model.summary()"
      ]
    },
    {
      "cell_type": "markdown",
      "id": "8b95c3e0",
      "metadata": {
        "id": "8b95c3e0"
      },
      "source": [
        "## configure the learning process "
      ]
    },
    {
      "cell_type": "code",
      "execution_count": 38,
      "id": "548a4174",
      "metadata": {
        "id": "548a4174"
      },
      "outputs": [],
      "source": [
        "model.compile(loss='mean_squared_error',optimizer='adam')"
      ]
    },
    {
      "cell_type": "markdown",
      "id": "4ff8b975",
      "metadata": {
        "id": "4ff8b975"
      },
      "source": [
        "## train the model"
      ]
    },
    {
      "cell_type": "code",
      "execution_count": 39,
      "id": "790ede6c",
      "metadata": {
        "colab": {
          "base_uri": "https://localhost:8080/"
        },
        "id": "790ede6c",
        "outputId": "01d90cc8-53db-4cb2-ec51-8966215ac61e"
      },
      "outputs": [
        {
          "output_type": "stream",
          "name": "stdout",
          "text": [
            "Epoch 1/50\n",
            "1/1 [==============================] - 8s 8s/step - loss: 0.0095 - val_loss: 0.0909\n",
            "Epoch 2/50\n",
            "1/1 [==============================] - 0s 100ms/step - loss: 0.0061 - val_loss: 0.0716\n",
            "Epoch 3/50\n",
            "1/1 [==============================] - 0s 79ms/step - loss: 0.0032 - val_loss: 0.0534\n",
            "Epoch 4/50\n",
            "1/1 [==============================] - 0s 70ms/step - loss: 0.0012 - val_loss: 0.0365\n",
            "Epoch 5/50\n",
            "1/1 [==============================] - 0s 76ms/step - loss: 8.2316e-05 - val_loss: 0.0226\n",
            "Epoch 6/50\n",
            "1/1 [==============================] - 0s 66ms/step - loss: 2.6541e-04 - val_loss: 0.0146\n",
            "Epoch 7/50\n",
            "1/1 [==============================] - 0s 95ms/step - loss: 0.0012 - val_loss: 0.0125\n",
            "Epoch 8/50\n",
            "1/1 [==============================] - 0s 103ms/step - loss: 0.0017 - val_loss: 0.0139\n",
            "Epoch 9/50\n",
            "1/1 [==============================] - 0s 102ms/step - loss: 0.0014 - val_loss: 0.0175\n",
            "Epoch 10/50\n",
            "1/1 [==============================] - 0s 71ms/step - loss: 8.3524e-04 - val_loss: 0.0225\n",
            "Epoch 11/50\n",
            "1/1 [==============================] - 0s 64ms/step - loss: 3.2809e-04 - val_loss: 0.0280\n",
            "Epoch 12/50\n",
            "1/1 [==============================] - 0s 64ms/step - loss: 5.2075e-05 - val_loss: 0.0335\n",
            "Epoch 13/50\n",
            "1/1 [==============================] - 0s 62ms/step - loss: 6.4641e-06 - val_loss: 0.0383\n",
            "Epoch 14/50\n",
            "1/1 [==============================] - 0s 60ms/step - loss: 1.0978e-04 - val_loss: 0.0421\n",
            "Epoch 15/50\n",
            "1/1 [==============================] - 0s 77ms/step - loss: 2.6525e-04 - val_loss: 0.0446\n",
            "Epoch 16/50\n",
            "1/1 [==============================] - 0s 71ms/step - loss: 3.9727e-04 - val_loss: 0.0460\n",
            "Epoch 17/50\n",
            "1/1 [==============================] - 0s 118ms/step - loss: 4.6469e-04 - val_loss: 0.0463\n",
            "Epoch 18/50\n",
            "1/1 [==============================] - 0s 95ms/step - loss: 4.5814e-04 - val_loss: 0.0457\n",
            "Epoch 19/50\n",
            "1/1 [==============================] - 0s 66ms/step - loss: 3.9038e-04 - val_loss: 0.0443\n",
            "Epoch 20/50\n",
            "1/1 [==============================] - 0s 92ms/step - loss: 2.8599e-04 - val_loss: 0.0424\n",
            "Epoch 21/50\n",
            "1/1 [==============================] - 0s 87ms/step - loss: 1.7318e-04 - val_loss: 0.0402\n",
            "Epoch 22/50\n",
            "1/1 [==============================] - 0s 70ms/step - loss: 7.7521e-05 - val_loss: 0.0378\n",
            "Epoch 23/50\n",
            "1/1 [==============================] - 0s 69ms/step - loss: 1.7318e-05 - val_loss: 0.0356\n",
            "Epoch 24/50\n",
            "1/1 [==============================] - 0s 101ms/step - loss: 1.8661e-07 - val_loss: 0.0336\n",
            "Epoch 25/50\n",
            "1/1 [==============================] - 0s 77ms/step - loss: 2.1352e-05 - val_loss: 0.0320\n",
            "Epoch 26/50\n",
            "1/1 [==============================] - 0s 92ms/step - loss: 6.4918e-05 - val_loss: 0.0310\n",
            "Epoch 27/50\n",
            "1/1 [==============================] - 0s 78ms/step - loss: 1.0926e-04 - val_loss: 0.0305\n",
            "Epoch 28/50\n",
            "1/1 [==============================] - 0s 78ms/step - loss: 1.3555e-04 - val_loss: 0.0307\n",
            "Epoch 29/50\n",
            "1/1 [==============================] - 0s 83ms/step - loss: 1.3498e-04 - val_loss: 0.0314\n",
            "Epoch 30/50\n",
            "1/1 [==============================] - 0s 63ms/step - loss: 1.1066e-04 - val_loss: 0.0324\n",
            "Epoch 31/50\n",
            "1/1 [==============================] - 0s 96ms/step - loss: 7.3802e-05 - val_loss: 0.0338\n",
            "Epoch 32/50\n",
            "1/1 [==============================] - 0s 129ms/step - loss: 3.7534e-05 - val_loss: 0.0353\n",
            "Epoch 33/50\n",
            "1/1 [==============================] - 0s 106ms/step - loss: 1.1723e-05 - val_loss: 0.0369\n",
            "Epoch 34/50\n",
            "1/1 [==============================] - 0s 81ms/step - loss: 5.6024e-07 - val_loss: 0.0383\n",
            "Epoch 35/50\n",
            "1/1 [==============================] - 0s 60ms/step - loss: 2.8404e-06 - val_loss: 0.0395\n",
            "Epoch 36/50\n",
            "1/1 [==============================] - 0s 88ms/step - loss: 1.3843e-05 - val_loss: 0.0404\n",
            "Epoch 37/50\n",
            "1/1 [==============================] - 0s 106ms/step - loss: 2.7625e-05 - val_loss: 0.0410\n",
            "Epoch 38/50\n",
            "1/1 [==============================] - 0s 79ms/step - loss: 3.8931e-05 - val_loss: 0.0413\n",
            "Epoch 39/50\n",
            "1/1 [==============================] - 0s 71ms/step - loss: 4.4381e-05 - val_loss: 0.0414\n",
            "Epoch 40/50\n",
            "1/1 [==============================] - 0s 81ms/step - loss: 4.2896e-05 - val_loss: 0.0411\n",
            "Epoch 41/50\n",
            "1/1 [==============================] - 0s 58ms/step - loss: 3.5503e-05 - val_loss: 0.0406\n",
            "Epoch 42/50\n",
            "1/1 [==============================] - 0s 60ms/step - loss: 2.4696e-05 - val_loss: 0.0400\n",
            "Epoch 43/50\n",
            "1/1 [==============================] - 0s 99ms/step - loss: 1.3573e-05 - val_loss: 0.0392\n",
            "Epoch 44/50\n",
            "1/1 [==============================] - 0s 84ms/step - loss: 4.9221e-06 - val_loss: 0.0385\n",
            "Epoch 45/50\n",
            "1/1 [==============================] - 0s 84ms/step - loss: 4.8757e-07 - val_loss: 0.0378\n",
            "Epoch 46/50\n",
            "1/1 [==============================] - 0s 74ms/step - loss: 5.6377e-07 - val_loss: 0.0371\n",
            "Epoch 47/50\n",
            "1/1 [==============================] - 0s 79ms/step - loss: 4.0476e-06 - val_loss: 0.0367\n",
            "Epoch 48/50\n",
            "1/1 [==============================] - 0s 68ms/step - loss: 8.9278e-06 - val_loss: 0.0364\n",
            "Epoch 49/50\n",
            "1/1 [==============================] - 0s 96ms/step - loss: 1.3047e-05 - val_loss: 0.0363\n",
            "Epoch 50/50\n",
            "1/1 [==============================] - 0s 73ms/step - loss: 1.4858e-05 - val_loss: 0.0364\n"
          ]
        },
        {
          "output_type": "execute_result",
          "data": {
            "text/plain": [
              "<keras.callbacks.History at 0x7f1443042f50>"
            ]
          },
          "metadata": {},
          "execution_count": 39
        }
      ],
      "source": [
        "model.fit(x_train,y_train,validation_data=(x_test,y_test),epochs=50,batch_size=64,verbose=1)"
      ]
    },
    {
      "cell_type": "markdown",
      "id": "c3d98f1d",
      "metadata": {
        "id": "c3d98f1d"
      },
      "source": [
        "## Model Evaluation"
      ]
    },
    {
      "cell_type": "code",
      "execution_count": 40,
      "id": "2268f5c4",
      "metadata": {
        "colab": {
          "base_uri": "https://localhost:8080/"
        },
        "id": "2268f5c4",
        "outputId": "3e39180f-f870-4fc5-d3e6-ff053bfadf86"
      },
      "outputs": [
        {
          "output_type": "stream",
          "name": "stdout",
          "text": [
            "Epoch 1/20\n",
            "1/1 [==============================] - 15s 15s/step - loss: 0.0109 - val_loss: 0.1048 - lr: 0.0010\n",
            "Epoch 2/20\n",
            "1/1 [==============================] - 0s 49ms/step - loss: 0.0072 - val_loss: 0.0865 - lr: 0.0010\n",
            "Epoch 3/20\n",
            "1/1 [==============================] - 0s 45ms/step - loss: 0.0041 - val_loss: 0.0690 - lr: 0.0010\n",
            "Epoch 4/20\n",
            "1/1 [==============================] - 0s 48ms/step - loss: 0.0017 - val_loss: 0.0523 - lr: 0.0010\n",
            "Epoch 5/20\n",
            "1/1 [==============================] - 0s 66ms/step - loss: 1.7547e-04 - val_loss: 0.0375 - lr: 0.0010\n",
            "Epoch 6/20\n",
            "1/1 [==============================] - 0s 49ms/step - loss: 1.1413e-04 - val_loss: 0.0271 - lr: 0.0010\n",
            "Epoch 7/20\n",
            "1/1 [==============================] - 0s 48ms/step - loss: 1.2154e-04 - val_loss: 0.0204 - lr: 0.0010\n",
            "Epoch 8/20\n",
            "1/1 [==============================] - 0s 49ms/step - loss: 0.0020 - val_loss: 0.0202 - lr: 0.0010\n",
            "Epoch 9/20\n",
            "1/1 [==============================] - 0s 46ms/step - loss: 3.7429e-04 - val_loss: 0.0215 - lr: 0.0010\n",
            "Epoch 10/20\n",
            "1/1 [==============================] - 0s 49ms/step - loss: 0.0019 - val_loss: 0.0258 - lr: 0.0010\n",
            "Epoch 11/20\n",
            "1/1 [==============================] - 0s 44ms/step - loss: 5.4496e-04 - val_loss: 0.0311 - lr: 0.0010\n",
            "Epoch 12/20\n",
            "1/1 [==============================] - 0s 53ms/step - loss: 5.0496e-07 - val_loss: 0.0361 - lr: 0.0010\n",
            "Epoch 13/20\n",
            "1/1 [==============================] - 0s 57ms/step - loss: 1.6411e-04 - val_loss: 0.0413 - lr: 0.0010\n",
            "Epoch 14/20\n",
            "1/1 [==============================] - 0s 50ms/step - loss: 2.7429e-06 - val_loss: 0.0418 - lr: 1.0000e-04\n",
            "Epoch 15/20\n",
            "1/1 [==============================] - 0s 51ms/step - loss: 6.5137e-05 - val_loss: 0.0421 - lr: 1.0000e-04\n",
            "Epoch 16/20\n",
            "1/1 [==============================] - 0s 48ms/step - loss: 1.0464e-07 - val_loss: 0.0425 - lr: 1.0000e-04\n",
            "Epoch 17/20\n",
            "1/1 [==============================] - 0s 64ms/step - loss: 1.0912e-05 - val_loss: 0.0428 - lr: 1.0000e-04\n",
            "Epoch 18/20\n",
            "1/1 [==============================] - 0s 49ms/step - loss: 2.7903e-04 - val_loss: 0.0429 - lr: 1.0000e-04\n",
            "Epoch 19/20\n",
            "1/1 [==============================] - 0s 47ms/step - loss: 1.9150e-04 - val_loss: 0.0429 - lr: 1.0000e-05\n",
            "Epoch 20/20\n",
            "1/1 [==============================] - 0s 44ms/step - loss: 4.8117e-04 - val_loss: 0.0429 - lr: 1.0000e-05\n"
          ]
        }
      ],
      "source": [
        "regressor = Sequential()\n",
        "\n",
        "regressor.add(LSTM(units = 60, return_sequences = True, input_shape = (x_train.shape[1], 1)))\n",
        "regressor.add(Dropout(0.1))\n",
        "\n",
        "regressor.add(LSTM(units = 60, return_sequences = True))\n",
        "regressor.add(Dropout(0.1))\n",
        "\n",
        "regressor.add(LSTM(units = 60))\n",
        "regressor.add(Dropout(0.1))\n",
        "\n",
        "regressor.add(Dense(units = 1))\n",
        "\n",
        "\n",
        "regressor.compile(optimizer = 'adam', loss = 'mean_squared_error')\n",
        "reduce_lr = ReduceLROnPlateau(monitor='val_loss',patience=5)\n",
        "history =regressor.fit(x_train, y_train, epochs = 20, batch_size = 15,validation_data=(x_test, y_test), callbacks=[reduce_lr],shuffle=False)"
      ]
    },
    {
      "cell_type": "code",
      "execution_count": 41,
      "id": "c2bdfd82",
      "metadata": {
        "colab": {
          "base_uri": "https://localhost:8080/"
        },
        "id": "c2bdfd82",
        "outputId": "8b00c2db-99fc-40b7-ba87-929b26b5ed43"
      },
      "outputs": [
        {
          "output_type": "stream",
          "name": "stdout",
          "text": [
            "1/1 [==============================] - 1s 1s/step\n",
            "1/1 [==============================] - 0s 20ms/step\n"
          ]
        }
      ],
      "source": [
        "train_predict = regressor.predict(x_train)\n",
        "test_predict = regressor.predict(x_test)\n"
      ]
    },
    {
      "cell_type": "code",
      "execution_count": 42,
      "id": "e169558c",
      "metadata": {
        "id": "e169558c"
      },
      "outputs": [],
      "source": [
        "train_predict = scaler.inverse_transform(train_predict)\n",
        "y_train = scaler.inverse_transform([y_train])\n",
        "test_predict = scaler.inverse_transform(test_predict)\n",
        "y_test = scaler.inverse_transform([y_test])"
      ]
    },
    {
      "cell_type": "code",
      "execution_count": 43,
      "id": "a7a11cdb",
      "metadata": {
        "colab": {
          "base_uri": "https://localhost:8080/"
        },
        "id": "a7a11cdb",
        "outputId": "37430613-9a99-46b5-ae9f-9e76a84e1284"
      },
      "outputs": [
        {
          "output_type": "execute_result",
          "data": {
            "text/plain": [
              "1.3431420135498051"
            ]
          },
          "metadata": {},
          "execution_count": 43
        }
      ],
      "source": [
        "import math\n",
        "from sklearn.metrics import mean_squared_error\n",
        "math.sqrt(mean_squared_error(y_train,train_predict))"
      ]
    },
    {
      "cell_type": "code",
      "execution_count": 44,
      "id": "2b05de2f",
      "metadata": {
        "id": "2b05de2f"
      },
      "outputs": [],
      "source": [
        "from tensorflow.keras.models import load_model\n",
        "model.save(\"crude_oil.h5\")"
      ]
    },
    {
      "cell_type": "code",
      "execution_count": 45,
      "id": "656f2fa3",
      "metadata": {
        "id": "656f2fa3"
      },
      "outputs": [],
      "source": [
        "look_back=10\n",
        "trainPredictPlot=np.empty_like(dataoil)\n",
        "trainPredictPlot[:,:]=np.nan\n",
        "trainPredictPlot[look_back:len(train_predict)+look_back,:]=train_predict\n",
        "testPredictPlot=np.empty_like(dataoil)\n",
        "testPredictPlot[:,:]=np.nan\n",
        "testPredictPlot[len(train_predict)+(look_back*2)+1:len(dataoil)-1,:]=test_predict"
      ]
    },
    {
      "cell_type": "code",
      "execution_count": 46,
      "id": "1fa8f2fa",
      "metadata": {
        "colab": {
          "base_uri": "https://localhost:8080/",
          "height": 265
        },
        "id": "1fa8f2fa",
        "outputId": "3092c760-7813-4fea-f4fb-128456745f1e"
      },
      "outputs": [
        {
          "output_type": "display_data",
          "data": {
            "text/plain": [
              "<Figure size 432x288 with 1 Axes>"
            ],
            "image/png": "[encoded data removed]"
          },
          "metadata": {
            "needs_background": "light"
          }
        }
      ],
      "source": [
        "plt.plot(scaler.inverse_transform(dataoil))\n",
        "plt.plot(trainPredictPlot)\n",
        "plt.plot(testPredictPlot)\n",
        "plt.show()\n"
      ]
    },
    {
      "cell_type": "code",
      "execution_count": 47,
      "id": "9d8fadef",
      "metadata": {
        "colab": {
          "base_uri": "https://localhost:8080/"
        },
        "id": "9d8fadef",
        "outputId": "e7fbe8a3-fc73-4f0f-ee26-bd1d05c87209"
      },
      "outputs": [
        {
          "output_type": "execute_result",
          "data": {
            "text/plain": [
              "2876"
            ]
          },
          "metadata": {},
          "execution_count": 47
        }
      ],
      "source": [
        "len(test_data)"
      ]
    },
    {
      "cell_type": "code",
      "execution_count": 48,
      "id": "4bb4e841",
      "metadata": {
        "colab": {
          "base_uri": "https://localhost:8080/"
        },
        "id": "4bb4e841",
        "outputId": "e26e34d4-34ea-43ca-dac7-94e16993418e"
      },
      "outputs": [
        {
          "output_type": "execute_result",
          "data": {
            "text/plain": [
              "(1, 10)"
            ]
          },
          "metadata": {},
          "execution_count": 48
        }
      ],
      "source": [
        "x_input=test_data[2866:].reshape(1,-1)\n",
        "x_input.shape"
      ]
    },
    {
      "cell_type": "code",
      "execution_count": 49,
      "id": "a0b8010d",
      "metadata": {
        "id": "a0b8010d"
      },
      "outputs": [],
      "source": [
        "temp_input=list(x_input)\n",
        "temp_input=temp_input[0].tolist()"
      ]
    },
    {
      "cell_type": "code",
      "execution_count": 50,
      "id": "7ad3b43e",
      "metadata": {
        "colab": {
          "base_uri": "https://localhost:8080/"
        },
        "id": "7ad3b43e",
        "outputId": "45bc60a3-9696-48af-83aa-fdb247392742"
      },
      "outputs": [
        {
          "output_type": "execute_result",
          "data": {
            "text/plain": [
              "[0.44172960165852215,\n",
              " 0.48111950244335855,\n",
              " 0.49726047682511476,\n",
              " 0.4679401747371539,\n",
              " 0.4729749740855915,\n",
              " 0.47119798608026064,\n",
              " 0.47341922108692425,\n",
              " 0.4649785280616022,\n",
              " 0.4703835332444839,\n",
              " 0.47149415074781587]"
            ]
          },
          "metadata": {},
          "execution_count": 50
        }
      ],
      "source": [
        "temp_input"
      ]
    },
    {
      "cell_type": "code",
      "execution_count": 51,
      "id": "d9ea33c2",
      "metadata": {
        "colab": {
          "base_uri": "https://localhost:8080/"
        },
        "id": "d9ea33c2",
        "outputId": "f60fe553-d1bf-4564-fc52-8b1886dd4cb4"
      },
      "outputs": [
        {
          "output_type": "stream",
          "name": "stdout",
          "text": [
            "[0.17525661]\n",
            "11\n",
            "1 day input [0.4811195  0.49726048 0.46794017 0.47297497 0.47119799 0.47341922\n",
            " 0.46497853 0.47038353 0.47149415 0.17525661]\n",
            "1 day output [[0.17483878]]\n",
            "2 day input [0.49726048 0.46794017 0.47297497 0.47119799 0.47341922 0.46497853\n",
            " 0.47038353 0.47149415 0.17525661 0.17483878]\n",
            "2 day output [[0.17196193]]\n",
            "3 day input [0.46794017 0.47297497 0.47119799 0.47341922 0.46497853 0.47038353\n",
            " 0.47149415 0.17525661 0.17483878 0.17196193]\n",
            "3 day output [[0.16714796]]\n",
            "4 day input [0.47297497 0.47119799 0.47341922 0.46497853 0.47038353 0.47149415\n",
            " 0.17525661 0.17483878 0.17196193 0.16714796]\n",
            "4 day output [[0.16161186]]\n",
            "5 day input [0.47119799 0.47341922 0.46497853 0.47038353 0.47149415 0.17525661\n",
            " 0.17483878 0.17196193 0.16714796 0.16161186]\n",
            "5 day output [[0.15482593]]\n",
            "6 day input [0.47341922 0.46497853 0.47038353 0.47149415 0.17525661 0.17483878\n",
            " 0.17196193 0.16714796 0.16161186 0.15482593]\n",
            "6 day output [[0.14727062]]\n",
            "7 day input [0.46497853 0.47038353 0.47149415 0.17525661 0.17483878 0.17196193\n",
            " 0.16714796 0.16161186 0.15482593 0.14727062]\n",
            "7 day output [[0.13916048]]\n",
            "8 day input [0.47038353 0.47149415 0.17525661 0.17483878 0.17196193 0.16714796\n",
            " 0.16161186 0.15482593 0.14727062 0.13916048]\n",
            "8 day output [[0.13101019]]\n",
            "9 day input [0.47149415 0.17525661 0.17483878 0.17196193 0.16714796 0.16161186\n",
            " 0.15482593 0.14727062 0.13916048 0.13101019]\n",
            "9 day output [[0.12271082]]\n"
          ]
        }
      ],
      "source": [
        "lst_output=[]\n",
        "n_steps=10\n",
        "i=0 \n",
        "while(i<10):\n",
        "    if(len(temp_input)>10):\n",
        "        x_input=np.array(temp_input[1:])\n",
        "        print(\"{} day input {}\".format(i,x_input))\n",
        "        x_input=x_input.reshape(1,-1)\n",
        "        x_input=x_input.reshape((1,n_steps,1))\n",
        "        yhat=model.predict(x_input,verbose=0)\n",
        "        print(\"{} day output {}\".format(i,yhat))\n",
        "        temp_input.extend(yhat[0].tolist())\n",
        "        temp_input=temp_input[1:]\n",
        "        lst_output.extend(yhat.tolist())\n",
        "        i=i+1\n",
        "    else:\n",
        "        x_input=x_input.reshape((1,n_steps,1))\n",
        "        yhat=model.predict(x_input,verbose=0)\n",
        "        print(yhat[0])\n",
        "        temp_input.extend(yhat[0].tolist())\n",
        "        print(len(temp_input))\n",
        "        lst_output.extend(yhat.tolist())\n",
        "        i=i+1"
      ]
    },
    {
      "cell_type": "code",
      "execution_count": 52,
      "id": "636c3ad6",
      "metadata": {
        "colab": {
          "base_uri": "https://localhost:8080/"
        },
        "id": "636c3ad6",
        "outputId": "e9d4b8a0-6314-4a02-9a9b-5c4a1a1ab76d"
      },
      "outputs": [
        {
          "output_type": "execute_result",
          "data": {
            "text/plain": [
              "8216"
            ]
          },
          "metadata": {},
          "execution_count": 52
        }
      ],
      "source": [
        "day_new=np.arange(1,11)\n",
        "day_pred=np.arange(11,21)\n",
        "len(dataoil)\n"
      ]
    },
    {
      "cell_type": "code",
      "execution_count": 53,
      "id": "b583a60f",
      "metadata": {
        "colab": {
          "base_uri": "https://localhost:8080/",
          "height": 282
        },
        "id": "b583a60f",
        "outputId": "88f4a6f7-859a-40d0-c37a-7036766702f1"
      },
      "outputs": [
        {
          "output_type": "execute_result",
          "data": {
            "text/plain": [
              "[<matplotlib.lines.Line2D at 0x7f143f5cd490>]"
            ]
          },
          "metadata": {},
          "execution_count": 53
        },
        {
          "output_type": "display_data",
          "data": {
            "text/plain": [
              "<Figure size 432x288 with 1 Axes>"
            ],
            "image/png": "[encoded data removed]"
          },
          "metadata": {
            "needs_background": "light"
          }
        }
      ],
      "source": [
        "plt.plot(day_new,scaler.inverse_transform(dataoil[8206:]))\n",
        "plt.plot(day_pred,scaler.inverse_transform(lst_output))"
      ]
    },
    {
      "cell_type": "code",
      "execution_count": 54,
      "id": "07388ebe",
      "metadata": {
        "colab": {
          "base_uri": "https://localhost:8080/",
          "height": 282
        },
        "id": "07388ebe",
        "outputId": "4e4bc525-cc88-48ed-b7db-7af70ba3807f"
      },
      "outputs": [
        {
          "output_type": "execute_result",
          "data": {
            "text/plain": [
              "[<matplotlib.lines.Line2D at 0x7f143f683210>]"
            ]
          },
          "metadata": {},
          "execution_count": 54
        },
        {
          "output_type": "display_data",
          "data": {
            "text/plain": [
              "<Figure size 432x288 with 1 Axes>"
            ],
            "image/png": "[encoded data removed]"
          },
          "metadata": {
            "needs_background": "light"
          }
        }
      ],
      "source": [
        "df3=dataoil.tolist()\n",
        "df3.extend(lst_output)\n",
        "plt.plot(df3[8100:])"
      ]
    },
    {
      "cell_type": "code",
      "execution_count": 55,
      "id": "ade6ccfe",
      "metadata": {
        "colab": {
          "base_uri": "https://localhost:8080/",
          "height": 282
        },
        "id": "ade6ccfe",
        "outputId": "e3aafadc-457c-407c-def9-59ea42ba3e74"
      },
      "outputs": [
        {
          "output_type": "execute_result",
          "data": {
            "text/plain": [
              "[<matplotlib.lines.Line2D at 0x7f143f619090>]"
            ]
          },
          "metadata": {},
          "execution_count": 55
        },
        {
          "output_type": "display_data",
          "data": {
            "text/plain": [
              "<Figure size 432x288 with 1 Axes>"
            ],
            "image/png": "[encoded data removed]"
          },
          "metadata": {
            "needs_background": "light"
          }
        }
      ],
      "source": [
        "df3=scaler.inverse_transform(df3).tolist()\n",
        "plt.plot(df3)"
      ]
    }
  ],
  "metadata": {
    "kernelspec": {
      "display_name": "Python 3",
      "language": "python",
      "name": "python3"
    },
    "language_info": {
      "codemirror_mode": {
        "name": "ipython",
        "version": 3
      },
      "file_extension": ".py",
      "mimetype": "text/x-python",
      "name": "python",
      "nbconvert_exporter": "python",
      "pygments_lexer": "ipython3",
      "version": "3.8.8"
    },
    "colab": {
      "provenance": []
    }
  },
  "nbformat": 4,
  "nbformat_minor": 5
}